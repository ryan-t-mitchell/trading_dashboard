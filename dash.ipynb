import pandas as pd
from IPython.display import display, HTML
import plotly.graph_objects as go

# ------------------------------------------------------------------
# CONFIG – point this to your TradeZella CSV of closed trades
# CSV_PATH = '~/Downloads/trades_20250701120412.csv'   # edit if needed
CSV_PATH = '~/Downloads/rm2_grouped_trades_summary.csv'
# ------------------------------------------------------------------

tz = pd.read_csv(CSV_PATH)

# --- Select the numeric P&L column (strip commas / $ if present) ---
pnl = tz['PnL'].astype(float)

# Winning / losing trades (breakeven excluded)
wins   = pnl[pnl > 0]
losses = pnl[pnl < 0]

trade_cnt   = len(wins) + len(losses)          # 83
net_pl      = pnl.sum()                        # 957.16
win_rate    = len(wins) / trade_cnt            # 0.5904
profit_fact = wins.sum() / abs(losses.sum())   # 1.51
avg_win     = wins.mean()                      # 57.9
avg_loss    = abs(losses.mean())               # 55.2

# ------------- Day win % (breakevens excluded) --------------------
tz['Close_Date'] = pd.to_datetime(tz['Close_Date'])
daily = tz.groupby(tz['Close_Date'].dt.date)['PnL'].sum()

win_days  = (daily > 0).sum()
loss_days = (daily < 0).sum()
be_days = (daily == 0).sum()
day_win_pct = win_days / (win_days + be_days + loss_days)   # 35.29 %

# ----------------- Pretty metric cards ----------------------------
STYLE = """<style>
.card{display:inline-block;border:1px solid #eee;border-radius:8px;
padding:16px;margin:8px;min-width:190px;box-shadow:2px 2px 5px rgba(0,0,0,.07);}
h3{margin:0 0 6px;font-family:arial;}
.big{font-size:1.5em;font-family:monospace;color:#00a37d;}
</style>"""
display(HTML(STYLE))

cards = f'''
<div class="card"><h3>Net&nbsp;P&L</h3><div class="big">${net_pl:,.2f}</div></div>
<div class="card"><h3>Trade&nbsp;win&nbsp;%</h3><div class="big">{win_rate*100:,.2f}%</div></div>
<div class="card"><h3>Profit&nbsp;factor</h3><div class="big">{profit_fact:,.2f}</div></div>
<div class="card"><h3>Day&nbsp;win&nbsp;%</h3><div class="big">{day_win_pct*100:,.2f}%</div></div>
<div class="card"><h3>Avg&nbsp;win&nbsp;trade</h3><div class="big">${avg_win:,.2f}</div></div>
<div class="card"><h3>Avg&nbsp;loss&nbsp;trade</h3><div class="big">-${avg_loss:,.2f}</div></div>
<div class="card"><h3>Trades (wins&nbsp;+&nbsp;losses)</h3><div class="big">{trade_cnt}</div></div>
'''
display(HTML(cards))

# -------------- Optional gauges (Plotly) --------------------------
def pct_gauge(value, title):
    fig = go.Figure(go.Indicator(
        mode='gauge+number',
        value=value*100,
        number={'suffix':'%'},
        gauge={'axis':{'range':[0,100]},
               'bar':{'color':'#00a37d'},
               'bgcolor':'white',
               'steps':[{'range':[0,value*100],'color':'#00a37d'},
                        {'range':[value*100,100],'color':'#f3b4b4'}]},
        title={'text':title}))
    fig.update_layout(height=250, margin=dict(t=40,b=0,l=0,r=0))
    return fig

display(pct_gauge(win_rate,  "Trade win %"))
display(pct_gauge(day_win_pct, "Day win %"))

# ------------------------------------------------------------------
# If you *really* need to rebuild trades from Webull order executions
# instead of the TradeZella CSV, uncomment and run the helper below:
#
# from trade_reconstructor import reconstruct_from_orders
# closed_trades = reconstruct_from_orders('/mnt/data/Webull_Orders_Records (5).csv')
# ------------------------------------------------------------------
