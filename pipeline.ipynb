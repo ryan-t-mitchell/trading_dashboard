# Process Webull trade order data for KPIs
import pandas as pd
import plotly.graph_objects as go
from dateutil import parser
from collections import deque
from IPython.display import display, HTML

# Load & sort
orders_df = pd.read_csv('~/Downloads/Webull_Orders_Records_new.csv')
orders_df['Filled Time'] = orders_df['Filled Time'].apply(lambda x: parser.parse(x).astimezone(tz=None))
orders_df.sort_values(by=['Symbol', 'Filled Time'], inplace=True)

def group_trades(df):
    """
    Groups orders into complete round‐trip trades per symbol using FIFO matching.
    Returns a DataFrame with one row per closed trade.
    """
    df = df.copy()
    # mark buys as +qty, sells as –qty
    df['signed_qty'] = df['Filled'].where(df['Side']=='Buy', -df['Filled'])
    # cumulative position per symbol
    df['cum_qty'] = df.groupby('Symbol')['signed_qty'].cumsum()
    # previous cum position (to detect new entries)
    df['prev_cum'] = df.groupby('Symbol')['cum_qty'].shift(fill_value=0)
    tol = 1e-6
    # entry flag: coming from zero into a non‐zero position
    df['is_entry'] = (df['prev_cum'].abs() < tol) & (df['signed_qty'] != 0)
    # assign a trade ID per entry
    df['Trade ID'] = df.groupby('Symbol')['is_entry'].cumsum() - 1

    trades = []
    # within each (Symbol, Trade ID) do FIFO matching
    for (sym, tid), grp in df.groupby(['Symbol','Trade ID'], sort=False):
        fifo = deque()
        for _, row in grp.iterrows():
            qty, price, time = row['Filled'], row['Avg Price'], row['Filled Time']
            if row['Side'] == 'Buy':
                fifo.append([qty, price, time])
            else:  # Sell
                rem = qty
                while rem > 0 and fifo:
                    b_qty, b_price, b_time = fifo[0]
                    m = min(b_qty, rem)
                    pnl = m * (price - b_price)
                    trades.append({
                        'Ticker':    sym,
                        'Trade ID':  tid,
                        'Quantity':  m,
                        'Buy Price': b_price,
                        'Sell Price':price,
                        'Open Date': b_time,
                        'Close Date':time,
                        'P&L':       pnl
                    })
                    # subtract matched qty or pop
                    if b_qty > m:
                        fifo[0][0] -= m
                    else:
                        fifo.popleft()
                    rem -= m

    trades_df = pd.DataFrame(trades)
    # aggregate each trade
    summary = trades_df.groupby(['Ticker','Trade ID']).agg(
        Quantity             = ('Quantity','sum'),
        Average_Buy_Price    = ('Buy Price','mean'),
        Average_Sell_Price   = ('Sell Price','mean'),
        Open_Date            = ('Open Date','min'),
        Close_Date           = ('Close Date','max'),
        PnL                  = ('P&L','sum')
    ).reset_index()

    return summary

# Usage:
CSV_PATH = '~/Downloads/webull_grouped_trades_summary.csv'
grouped_trades_df = group_trades(orders_df)
grouped_trades_df.to_csv(CSV_PATH, index=False)


# Calculate KPIs in accordance with TradeZella defaults
tz = pd.read_csv(CSV_PATH)

# --- Select the numeric P&L column (strip commas / $ if present) ---
pnl = tz['PnL'].astype(float)

# Winning / losing trades (breakeven excluded)
wins   = pnl[pnl > 0]
losses = pnl[pnl < 0]

trade_cnt   = len(wins) + len(losses)          # 83
net_pl      = pnl.sum()                        # 957.16
win_rate    = len(wins) / trade_cnt            # 0.5904
profit_fact = wins.sum() / abs(losses.sum())   # 1.51
avg_win     = wins.mean()                      # 57.9
avg_loss    = abs(losses.mean())               # 55.2

# ------------- Day win % (breakevens excluded) --------------------
tz['Close_Date'] = pd.to_datetime(tz['Close_Date'])
daily = tz.groupby(tz['Close_Date'].dt.date)['PnL'].sum()

win_days  = (daily > 0).sum()
loss_days = (daily < 0).sum()
be_days = (daily == 0).sum()
day_win_pct = win_days / (win_days + be_days + loss_days)   # 35.29 %

# ----------------- Pretty metric cards ----------------------------
STYLE = """<style>
.card{display:inline-block;border:1px solid #eee;border-radius:8px;
padding:16px;margin:8px;min-width:190px;box-shadow:2px 2px 5px rgba(0,0,0,.07);}
h3{margin:0 0 6px;font-family:arial;}
.big{font-size:1.5em;font-family:monospace;color:#00a37d;}
</style>"""
display(HTML(STYLE))

cards = f'''
<div class="card"><h3>Net&nbsp;P&L</h3><div class="big">${net_pl:,.2f}</div></div>
<div class="card"><h3>Trade&nbsp;win&nbsp;%</h3><div class="big">{win_rate*100:,.2f}%</div></div>
<div class="card"><h3>Profit&nbsp;factor</h3><div class="big">{profit_fact:,.2f}</div></div>
<div class="card"><h3>Day&nbsp;win&nbsp;%</h3><div class="big">{day_win_pct*100:,.2f}%</div></div>
<div class="card"><h3>Avg&nbsp;win&nbsp;trade</h3><div class="big">${avg_win:,.2f}</div></div>
<div class="card"><h3>Avg&nbsp;loss&nbsp;trade</h3><div class="big">-${avg_loss:,.2f}</div></div>
<div class="card"><h3>Trades (wins&nbsp;+&nbsp;losses)</h3><div class="big">{trade_cnt}</div></div>
'''
display(HTML(cards))

# -------------- Optional gauges (Plotly) --------------------------
def pct_gauge(value, title):
    fig = go.Figure(go.Indicator(
        mode='gauge+number',
        value=value*100,
        number={'suffix':'%'},
        gauge={'axis':{'range':[0,100]},
               'bar':{'color':'#00a37d'},
               'bgcolor':'white',
               'steps':[{'range':[0,value*100],'color':'#00a37d'},
                        {'range':[value*100,100],'color':'#f3b4b4'}]},
        title={'text':title}))
    fig.update_layout(height=250, margin=dict(t=40,b=0,l=0,r=0))
    return fig

display(pct_gauge(win_rate,  "Trade win %"))
display(pct_gauge(day_win_pct, "Day win %"))