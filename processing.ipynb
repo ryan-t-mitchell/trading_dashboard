import pandas as pd
from dateutil import parser
from collections import deque

# Load & sort
orders_df = pd.read_csv('~/Downloads/Webull_Orders_Records (6).csv')
orders_df['Filled Time'] = orders_df['Filled Time'].apply(lambda x: parser.parse(x).astimezone(tz=None))
orders_df.sort_values(by=['Symbol', 'Filled Time'], inplace=True)

def group_trades(df):
    """
    Groups orders into complete round‐trip trades per symbol using FIFO matching.
    Returns a DataFrame with one row per closed trade.
    """
    df = df.copy()
    # mark buys as +qty, sells as –qty
    df['signed_qty'] = df['Filled'].where(df['Side']=='Buy', -df['Filled'])
    # cumulative position per symbol
    df['cum_qty'] = df.groupby('Symbol')['signed_qty'].cumsum()
    # previous cum position (to detect new entries)
    df['prev_cum'] = df.groupby('Symbol')['cum_qty'].shift(fill_value=0)
    tol = 1e-6
    # entry flag: coming from zero into a non‐zero position
    df['is_entry'] = (df['prev_cum'].abs() < tol) & (df['signed_qty'] != 0)
    # assign a trade ID per entry
    df['Trade ID'] = df.groupby('Symbol')['is_entry'].cumsum() - 1

    trades = []
    # within each (Symbol, Trade ID) do FIFO matching
    for (sym, tid), grp in df.groupby(['Symbol','Trade ID'], sort=False):
        fifo = deque()
        for _, row in grp.iterrows():
            qty, price, time = row['Filled'], row['Avg Price'], row['Filled Time']
            if row['Side'] == 'Buy':
                fifo.append([qty, price, time])
            else:  # Sell
                rem = qty
                while rem > 0 and fifo:
                    b_qty, b_price, b_time = fifo[0]
                    m = min(b_qty, rem)
                    pnl = m * (price - b_price)
                    trades.append({
                        'Ticker':    sym,
                        'Trade ID':  tid,
                        'Quantity':  m,
                        'Buy Price': b_price,
                        'Sell Price':price,
                        'Open Date': b_time,
                        'Close Date':time,
                        'P&L':       pnl
                    })
                    # subtract matched qty or pop
                    if b_qty > m:
                        fifo[0][0] -= m
                    else:
                        fifo.popleft()
                    rem -= m

    trades_df = pd.DataFrame(trades)
    # aggregate each trade
    summary = trades_df.groupby(['Ticker','Trade ID']).agg(
        Quantity             = ('Quantity','sum'),
        Average_Buy_Price    = ('Buy Price','mean'),
        Average_Sell_Price   = ('Sell Price','mean'),
        Open_Date            = ('Open Date','min'),
        Close_Date           = ('Close Date','max'),
        PnL                  = ('P&L','sum')
    ).reset_index()

    return summary

# Usage:
grouped_trades_df = group_trades(orders_df)
grouped_trades_df.to_csv('~/Downloads/rm2_grouped_trades_summary.csv', index=False)
print(grouped_trades_df.head())
